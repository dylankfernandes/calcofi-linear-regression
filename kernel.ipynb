{
 "cells": [
  {
   "cell_type": "code",
   "execution_count": null,
   "metadata": {
    "_cell_guid": "b1076dfc-b9ad-4769-8c92-a6c4dae69d19",
    "_uuid": "8f2839f25d086af736a60e9eeb907d3b93b6e0e5",
    "scrolled": true
   },
   "outputs": [],
   "source": [
    "import numpy as np\n",
    "import pandas as pd\n",
    "import seaborn as sns\n",
    "import matplotlib.pyplot as plt\n",
    "from sklearn import preprocessing, svm\n",
    "from sklearn.model_selection import train_test_split\n",
    "from sklearn.linear_model import LinearRegression\n",
    "\n",
    "# Setting up our datasets\n",
    "bottle = pd.read_csv('../input/bottle.csv')\n",
    "bottle = bottle[['Salnty', 'T_degC']]\n",
    "bottle.columns = ['Sal', 'Temp']\n",
    "\n",
    "# Limiting amount of entries to speed up regression time\n",
    "bottle = bottle[:][:500]\n",
    "\n",
    "print(bottle.head())"
   ]
  },
  {
   "cell_type": "markdown",
   "metadata": {
    "_uuid": "70722495c588122ea3f3710f4f240825423aec23"
   },
   "source": [
    "This is a seaborn implementation using built in methods"
   ]
  },
  {
   "cell_type": "code",
   "execution_count": null,
   "metadata": {
    "_cell_guid": "79c7e3d0-c299-4dcb-8224-4455121ee9b0",
    "_uuid": "d629ff2d2480ee46fbb7e2d37f6b5fab8052498a"
   },
   "outputs": [],
   "source": [
    "# This produces a scatter \n",
    "sns.lmplot(x=\"Sal\", y=\"Temp\", data=bottle,\n",
    "           order=2, ci=None);"
   ]
  },
  {
   "cell_type": "code",
   "execution_count": null,
   "metadata": {
    "_uuid": "9da18e3f9d2c92f06b58750c1ab3730772f920ab"
   },
   "outputs": [],
   "source": [
    "# Picturing a residual plot to check for heteroscedasticity \n",
    "sns.residplot(bottle['Sal'], bottle['Temp'], order=2, lowess=True)"
   ]
  },
  {
   "cell_type": "markdown",
   "metadata": {
    "_uuid": "0e36e01de150fb6d80211fc611d8fd5154078785"
   },
   "source": [
    "This is the sklearn implemenation"
   ]
  },
  {
   "cell_type": "code",
   "execution_count": null,
   "metadata": {
    "_uuid": "abdd08a82068c44b2ff8420938ee6aceaeb93f47"
   },
   "outputs": [],
   "source": [
    "# Eliminating NaN or missing input numbers\n",
    "bottle.fillna(method='ffill', inplace=True)"
   ]
  },
  {
   "cell_type": "code",
   "execution_count": null,
   "metadata": {
    "_uuid": "b4859027d78a946a77a01f442989540d2073dba8"
   },
   "outputs": [],
   "source": [
    "# Set up the training data\n",
    "X = np.array(bottle['Sal']).reshape(-1, 1)\n",
    "y = np.array(bottle['Temp']).reshape(-1, 1)\n",
    "\n",
    "bottle.dropna(inplace=True)\n",
    "\n",
    "X_train, X_test, y_train, y_test = train_test_split(X, y, test_size=0.2)\n",
    "\n",
    "clf = LinearRegression()\n",
    "clf.fit(X_train, y_train)\n",
    "accuracy = clf.score(X_test, y_test)\n",
    "print(accuracy)"
   ]
  },
  {
   "cell_type": "code",
   "execution_count": null,
   "metadata": {
    "_uuid": "2bc84dc93fc894441e32594dbd9a5afb55ca7dde"
   },
   "outputs": [],
   "source": [
    "# Make predictions using the new model\n",
    "y_pred = clf.predict(X_test)\n",
    "plt.scatter(X_test, y_test, color='b')\n",
    "plt.plot(X_test, y_pred, color='k')\n",
    "plt.show()"
   ]
  },
  {
   "cell_type": "code",
   "execution_count": null,
   "metadata": {
    "_uuid": "66943e24f91ce57bd50ffeef0c052caf3e92cdbf"
   },
   "outputs": [],
   "source": []
  }
 ],
 "metadata": {
  "kernelspec": {
   "display_name": "Python 3",
   "language": "python",
   "name": "python3"
  },
  "language_info": {
   "codemirror_mode": {
    "name": "ipython",
    "version": 3
   },
   "file_extension": ".py",
   "mimetype": "text/x-python",
   "name": "python",
   "nbconvert_exporter": "python",
   "pygments_lexer": "ipython3",
   "version": "3.7.0"
  }
 },
 "nbformat": 4,
 "nbformat_minor": 1
}
